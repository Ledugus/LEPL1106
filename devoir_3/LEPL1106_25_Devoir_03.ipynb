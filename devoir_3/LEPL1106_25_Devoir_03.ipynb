{
 "cells": [
  {
   "cell_type": "markdown",
   "metadata": {
    "id": "x1kwBO2yJBpJ"
   },
   "source": [
    "# LEPL1106, Devoir 3 : représentation d'état\n",
    "\n",
    "## 0) Introduction et objectif\n",
    "\n",
    "\n",
    "*Vous venez d'acheter une maison à rénover à côté d'un héliport. Pour limiter les nuisances sonores liées au décollage et à l'atterrissage des hélicoptères, vous cherchez à mieux isoler acoustiquement la maison. Pour répondre à ce problème, vous allez évaluer la transmission des bruits de moteurs dans la maison à partir d'un système modélisant cette transmission.*\n",
    "\n",
    "Ce devoir comporte donc deux parties. Dans un premier temps, vous allez créer une fonction qui calcule la représentation matricielle du système. Ensuite, vous calculerez, sur base de la représentation matricielle, la réponse (la sortie) du système pour une entrée donnée. Sur INGInious, en fin de devoir, vous aurez un petit QCM pour exercer votre compréhension des systèmes et des réponses impulsionnelles.\n",
    "\n",
    "Dans ce Notebook, vous aurez l'occasion de tester vos fonctions de traitement de signal sur des signaux audio réels.\n",
    "\n",
    "Pour créer, stocker, et opérer sur les signaux, on utilisera le package [`NumPy`](http://www.numpy.org/) de Python. Pour manipuler les systèmes, on utilisera le package [`scipy.signal`](https://docs.scipy.org/doc/scipy/reference/signal.html)."
   ]
  },
  {
   "cell_type": "code",
   "execution_count": null,
   "metadata": {
    "id": "_KcCsGK1JBpa"
   },
   "outputs": [],
   "source": [
    "import numpy as np\n",
    "import scipy.signal as sg\n",
    "\n",
    "import matplotlib.pyplot as plt"
   ]
  },
  {
   "cell_type": "markdown",
   "metadata": {},
   "source": [
    "## 1) Représentation matricielle\n",
    "\n",
    "\n",
    "Vous avez réussi à modéliser la manière dont le bruit se transmet dans la maison en fonction de paramètres liés aux matériaux de construction (isolants ou non) utilisés. Ainsi, si $x[n]$ représente le bruit d'un moteur et $y[n]$ l'expression du bruit dans la maison, on a\n",
    "\n",
    "$$ y[n] = \\beta x[n] - \\alpha y[n-1].$$\n",
    "\n",
    "Remarquez que nous travaillons ici sur une version discrétisée du problème, ce qui est assez courant en pratique. Afin de calculer la réponse d'un tel système, nous allons commencer par calculer sa représentation d'état sous forme matricielle. Ainsi, on vous demande d'implémenter la fonction ``(A,B,C,D) = computeMatrices(beta,alpha)`` qui prend en entrée les variables $\\alpha$ et $\\beta$  et retourne les matrices de la représentation d'état. Les matrices ont la définition usuelle suivante :\n",
    "$$\n",
    "    \\begin{align}\n",
    "        q[n+1]&=Aq[n]+Bx[n],\\\\\n",
    "          y[n]&=Cq[n]+Dx[n]\n",
    "    \\end{align}\n",
    "    \\label{eq:rep}\n",
    "$$\n",
    "et ont donc les dimensions adéquates. Les matrices en sortie doivent être retournées sous forme de numpy array."
   ]
  },
  {
   "cell_type": "code",
   "execution_count": null,
   "metadata": {},
   "outputs": [],
   "source": [
    "## LE CONTENU DE CETTE CELLLULE EST A SOUMETTRE SUR INGINIOUS\n",
    "def computeMatrices(beta,alpha):\n",
    "    \n",
    "    A = 0 #TODO\n",
    "    B = 0 #TODO\n",
    "    C = 0 #TODO\n",
    "    D = 0 #TODO\n",
    "    \n",
    "    return (A,B,C,D)"
   ]
  },
  {
   "cell_type": "code",
   "execution_count": null,
   "metadata": {},
   "outputs": [],
   "source": [
    "## CELLULE DE TEST\n",
    "\n",
    "beta = 1\n",
    "alpha = 10\n",
    "\n",
    "A,B,C,D = computeMatrices(beta,alpha)\n",
    "\n",
    "print(\"A = \")\n",
    "print(A)\n",
    "print(\"B = \")\n",
    "print(B)\n",
    "print(\"C = \")\n",
    "print(C)\n",
    "print(\"D = \")\n",
    "print(D)"
   ]
  },
  {
   "cell_type": "markdown",
   "metadata": {
    "id": "Vnqz21PiJBpd"
   },
   "source": [
    "## 2) Sortie du système\n",
    "\n",
    "En partant du template fourni ci-dessous, complétez la fonction  `(ty,y) = systemeDiscret(A,B,C,D,ts,x=None)` qui calcule la réponse d'un système discret à un signal d'entrée donné.\n",
    "Votre fonction prendra comme arguments:\n",
    "\n",
    "- Les matrices (numpy array) ``A``, ``B``, ``C``, ``D`` qui correspondent au système et sont obtenues par exemple avec la fonction `computeMatrices`. Vous pouvez supposer que ces matrices ont les dimensions adéquates.\n",
    "\n",
    "- ``ts``qui donne le temps d'échantillonnage $t_s>0$ (i.e., temps entre deux mesures consécutives) du système en secondes. Si le système est discret par nature, n'importe quelle valeur pour ``ts`` peut être utilisée, mais la plus naturelle est ``ts=1``.\n",
    "\n",
    "- ``x`` qui est un signal d'entrée $x[n]$ discret sous forme vectorielle (numpy array). Ce signal commence en $t=0$ et a un temps d'échantillonage de $t_s$. Cette entrée est optionnelle.\n",
    "\n",
    "Votre fonction doit fournir en sortie (sous forme de numpy array)\n",
    "\n",
    "- `y`, la réponse du système $y$ pour l'entrée $x$ si celle-ci est fournie (autrement dit, si `x` est différent de `None`), **autrement `y` est la réponse impulsionnelle du système.**\n",
    "- `ty` le vecteur temps associé au signal `y`, qui doit être cohérent avec la valeur ``ts``. \n",
    "\n",
    "On vous demande que chaque sortie soit un vecteur, ce qui signifie par exemple que la commande `ty.shape` doit vous retourner quelque chose de la forme `(100,)` (et non pas `(100,1)`).  Pour passer d'une représentation à l'autre vous pouvez utiliser la fonction `reshape` de numpy, ou la fonction `squeeze`.\n",
    "\n",
    "\n",
    "Fonctions à utiliser: `dimpulse`, `dlsim` (*note: si vous ne savez pas ce que font ces fonctions, allez lire leur documentation ou utilisez ``help(sg.nomDeLaFonction)``)*."
   ]
  },
  {
   "cell_type": "code",
   "execution_count": null,
   "metadata": {},
   "outputs": [],
   "source": [
    "## LE CONTENU DE CETTE CELLLULE EST A SOUMETTRE SUR INGINIOUS\n",
    "def systemeDiscret(A, B, C, D, ts, x=None):\n",
    "    \n",
    "    ty = 0 #TODO\n",
    "    y = 0 #TODO\n",
    "    \n",
    "    return (ty, y)"
   ]
  },
  {
   "cell_type": "code",
   "execution_count": null,
   "metadata": {},
   "outputs": [],
   "source": [
    "## CELLULE DE TEST\n",
    "\n",
    "# Créer un signal sinusoidal discret\n",
    "ts = 0.2\n",
    "tx = np.arange(0, 20+ts, ts)\n",
    "x = np.sin(0.5*np.pi*tx)\n",
    "\n",
    "# Définir les paramètres du système\n",
    "beta = 2\n",
    "alpha = 0.8\n",
    "\n",
    "# Calculer la représentation d'état\n",
    "A,B,C,D = computeMatrices(beta,alpha)\n",
    "\n",
    "# Matrices à utiliser par défaut si votre fonction computeMatrices ne fonctionne pas\n",
    "#A = np.array([0.2])\n",
    "#B = np.array([0.2])\n",
    "#C = np.array([2.0])\n",
    "#D = np.array([-1.1])\n",
    "\n",
    "# Obtenir la reponse impulsionelle\n",
    "th, h = systemeDiscret(A, B, C, D, ts)\n",
    "\n",
    "# Obtenir la reponse à l'entrée x[n]\n",
    "ty, y = systemeDiscret(A, B, C, D, ts, x)\n",
    "\n",
    "# Affichage\n",
    "plt.figure(figsize=(15,5))\n",
    "plt.rcParams.update({\"font.size\" : 18})\n",
    "\n",
    "mk_x, st_x, bl_x = plt.stem(tx, x, label=\"$x[n]$\")\n",
    "mk_h, st_h, bl_h = plt.stem(th, h, label=\"$h[n]$\")\n",
    "mk_y, st_y, bl_y = plt.stem(ty, y, label=\"$y[n]$\")\n",
    "\n",
    "mks = (mk_x, mk_h, mk_y)\n",
    "sts = (st_x, st_h, st_y)\n",
    "bls = (bl_x, bl_h, bl_y)\n",
    "\n",
    "colors = (\"b\", \"g\", \"r\")\n",
    "sizes = (5, 6, 7)\n",
    "\n",
    "# Donner du style aux signals de façon compacte \n",
    "for mk, st, bl, c, s in zip(mks, sts, bls, colors, sizes):\n",
    "    bl.set_color('k') \n",
    "    bl.set_linewidth(1)\n",
    "    mk.set_markersize(s)\n",
    "    mk.set_color(c) \n",
    "    st.set_color(c) \n",
    "\n",
    "    \n",
    "plt.xlim([0.0, 15.0])\n",
    "\n",
    "plt.title(\"Entrée $x[n]$, réponse impulsionnelle $h[n]$ et sortie $y[n]$ correspondant à un système donné \")\n",
    "plt.xlabel('$n\\cdot t_s$ [s]')\n",
    "\n",
    "plt.legend()\n",
    "plt.show()"
   ]
  },
  {
   "cell_type": "markdown",
   "metadata": {
    "id": "UetnqyVkJBpy"
   },
   "source": [
    "## Tests audio\n",
    "\n",
    "Les réponses impulsionnelles présentées sur INGInious pour le QCM sont les réponses impulsionnelles du système avec $\\alpha, \\beta = (0.1,-1.00005); (2,-0.8); (0.1, 0.995)$, dans cet ordre.\n",
    "\n",
    "Vous pouvez donc vérifier à l'aide du code ci-dessous si votre implémentation des deux fonctions précédentes est correcte, et écouter l'effet du choix des matériaux isolants (le système) sur les bruits de moteurs (enregistré dans ``bruit_moteur.wav`` fourni sur Moodle).\n",
    "\n",
    "Quelle combinaison de $\\alpha$ et $\\beta$ est la plus performante dans le but d'atténuer le bruit de moteur ?\n"
   ]
  },
  {
   "cell_type": "code",
   "execution_count": null,
   "metadata": {
    "id": "P5roPx6sJBpy",
    "scrolled": true
   },
   "outputs": [],
   "source": [
    "from scipy.io.wavfile import read, write\n",
    "\n",
    "fs, x = read(\"data/bruit_moteur.wav\")\n",
    "typeL = type(x[0]) #Le type utilisé par votre ordinateur pour les fichiers sons\n",
    "ts = 1/fs\n",
    "\n",
    "#modifier pour voir les autres cas\n",
    "beta = 0.3\n",
    "alpha = -1\n",
    "\n",
    "A1,B1,C1,D1 = computeMatrices(beta,alpha)\n",
    "\n",
    "# Affichage\n",
    "plt.figure(figsize=(15,8))\n",
    "plt.rcParams.update({\"font.size\" : 18})\n",
    "\n",
    "[th1, h1] = systemeDiscret(A1, B1, C1, D1, ts)\n",
    "_,_, bl = plt.stem(th1, h1, label=\"$h[n]$\")\n",
    "bl.set_color('k') \n",
    "bl.set_linewidth(1)\n",
    "\n",
    "plt.title(r\"Réponse impulsionnelle $h[n]$ du système ($\\alpha$={:.5f}; $\\beta$={:.5f}) \".format(alpha,beta))\n",
    "plt.xlabel('$n\\cdot t_s$ [s]')\n",
    "\n",
    "plt.legend()\n",
    "plt.savefig(str(alpha)+\"_\"+str(beta)+\".png\") \n",
    "plt.show()\n",
    "\n",
    "[ty1, y1] = systemeDiscret(A1, B1, C1, D1, ts, x)\n",
    "\n",
    "\n",
    "# Ce cast de y1 est nécessaire pour que le fichier soit lu, \n",
    "# mais tronque certaines données\n",
    "y1 = y1.astype(typeL) \n",
    "write(\"sortie.wav\", fs, y1)"
   ]
  },
  {
   "cell_type": "markdown",
   "metadata": {
    "id": "fsS4MTiCJBpz"
   },
   "source": [
    "Vous pouvez aller lire les fichiers `sortie.wav` ainsi obtenus à l'aide de votre lecteur préféré."
   ]
  }
 ],
 "metadata": {
  "colab": {
   "collapsed_sections": [],
   "name": "Devoir_03.ipynb",
   "provenance": []
  },
  "kernelspec": {
   "display_name": "Python 3 (ipykernel)",
   "language": "python",
   "name": "python3"
  },
  "language_info": {
   "codemirror_mode": {
    "name": "ipython",
    "version": 3
   },
   "file_extension": ".py",
   "mimetype": "text/x-python",
   "name": "python",
   "nbconvert_exporter": "python",
   "pygments_lexer": "ipython3",
   "version": "3.9.12"
  }
 },
 "nbformat": 4,
 "nbformat_minor": 1
}
